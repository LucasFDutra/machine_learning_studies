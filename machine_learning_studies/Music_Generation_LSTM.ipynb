{
  "nbformat": 4,
  "nbformat_minor": 0,
  "metadata": {
    "colab": {
      "name": "Music_Generation_LSTM.ipynb",
      "provenance": [],
      "toc_visible": true,
      "include_colab_link": true
    },
    "kernelspec": {
      "name": "python3",
      "display_name": "Python 3"
    },
    "accelerator": "GPU"
  },
  "cells": [
    {
      "cell_type": "markdown",
      "metadata": {
        "id": "view-in-github",
        "colab_type": "text"
      },
      "source": [
        "<a href=\"https://colab.research.google.com/github/LucasFDutra/machine_learning_studies/blob/master/machine_learning_studies/Music_Generation_LSTM.ipynb\" target=\"_parent\"><img src=\"https://colab.research.google.com/assets/colab-badge.svg\" alt=\"Open In Colab\"/></a>"
      ]
    },
    {
      "cell_type": "markdown",
      "metadata": {
        "id": "vBHbQSfXxC5R"
      },
      "source": [
        "# Import libs\n"
      ]
    },
    {
      "cell_type": "code",
      "metadata": {
        "id": "1bfFxs6OhT4c",
        "outputId": "15bf7c1b-69e6-459f-a827-60ebb02103d4",
        "colab": {
          "base_uri": "https://localhost:8080/",
          "height": 345
        }
      },
      "source": [
        "# Import Tensorflow 2.0\n",
        "%tensorflow_version 2.x\n",
        "import tensorflow as tf \n",
        "\n",
        "# Download and import the MIT 6.S191 package\n",
        "!pip install mitdeeplearning\n",
        "import mitdeeplearning as mdl\n",
        "\n",
        "# Import all remaining packages\n",
        "import numpy as np\n",
        "assert len(tf.config.list_physical_devices('GPU')) > 0"
      ],
      "execution_count": 1,
      "outputs": [
        {
          "output_type": "stream",
          "text": [
            "Collecting mitdeeplearning\n",
            "\u001b[?25l  Downloading https://files.pythonhosted.org/packages/8b/3b/b9174b68dc10832356d02a2d83a64b43a24f1762c172754407d22fc8f960/mitdeeplearning-0.1.2.tar.gz (2.1MB)\n",
            "\u001b[K     |████████████████████████████████| 2.1MB 9.4MB/s \n",
            "\u001b[?25hRequirement already satisfied: numpy in /usr/local/lib/python3.6/dist-packages (from mitdeeplearning) (1.18.5)\n",
            "Requirement already satisfied: regex in /usr/local/lib/python3.6/dist-packages (from mitdeeplearning) (2019.12.20)\n",
            "Requirement already satisfied: tqdm in /usr/local/lib/python3.6/dist-packages (from mitdeeplearning) (4.41.1)\n",
            "Requirement already satisfied: gym in /usr/local/lib/python3.6/dist-packages (from mitdeeplearning) (0.17.2)\n",
            "Requirement already satisfied: scipy in /usr/local/lib/python3.6/dist-packages (from gym->mitdeeplearning) (1.4.1)\n",
            "Requirement already satisfied: cloudpickle<1.4.0,>=1.2.0 in /usr/local/lib/python3.6/dist-packages (from gym->mitdeeplearning) (1.3.0)\n",
            "Requirement already satisfied: pyglet<=1.5.0,>=1.4.0 in /usr/local/lib/python3.6/dist-packages (from gym->mitdeeplearning) (1.5.0)\n",
            "Requirement already satisfied: future in /usr/local/lib/python3.6/dist-packages (from pyglet<=1.5.0,>=1.4.0->gym->mitdeeplearning) (0.16.0)\n",
            "Building wheels for collected packages: mitdeeplearning\n",
            "  Building wheel for mitdeeplearning (setup.py) ... \u001b[?25l\u001b[?25hdone\n",
            "  Created wheel for mitdeeplearning: filename=mitdeeplearning-0.1.2-cp36-none-any.whl size=2114585 sha256=73e20f8b3a25885fe221a56963b671f3048b41dc6c155f6ece338171df5341fe\n",
            "  Stored in directory: /root/.cache/pip/wheels/27/e1/73/5f01c787621d8a3c857f59876c79e304b9b64db9ff5bd61b74\n",
            "Successfully built mitdeeplearning\n",
            "Installing collected packages: mitdeeplearning\n",
            "Successfully installed mitdeeplearning-0.1.2\n"
          ],
          "name": "stdout"
        }
      ]
    },
    {
      "cell_type": "markdown",
      "metadata": {
        "id": "rupwHB5tx1M1"
      },
      "source": [
        "# Dataset\n",
        "\n",
        "Vou pegar os dados com o auxilio da biblioteca do MIT\n"
      ]
    },
    {
      "cell_type": "code",
      "metadata": {
        "id": "NUhh9ld5xp01",
        "outputId": "69d53b5e-aafe-475f-e813-e5fec5c2f572",
        "colab": {
          "base_uri": "https://localhost:8080/",
          "height": 35
        }
      },
      "source": [
        "songs = mdl.lab1.load_training_data()"
      ],
      "execution_count": 2,
      "outputs": [
        {
          "output_type": "stream",
          "text": [
            "Found 816 songs in text\n"
          ],
          "name": "stdout"
        }
      ]
    },
    {
      "cell_type": "code",
      "metadata": {
        "id": "QirePGwNx8nD",
        "outputId": "cbcfa232-83c1-436e-d69b-3cbca48c9125",
        "colab": {
          "base_uri": "https://localhost:8080/",
          "height": 54
        }
      },
      "source": [
        "songs[0]"
      ],
      "execution_count": 3,
      "outputs": [
        {
          "output_type": "execute_result",
          "data": {
            "application/vnd.google.colaboratory.intrinsic+json": {
              "type": "string"
            },
            "text/plain": [
              "'X:2\\nT:An Buachaill Dreoite\\nZ: id:dc-hornpipe-2\\nM:C|\\nL:1/8\\nK:G Major\\nGF|DGGB d2GB|d2GF Gc (3AGF|DGGB d2GB|dBcA F2GF|!\\nDGGB d2GF|DGGF G2Ge|fgaf gbag|fdcA G2:|!\\nGA|B2BG c2cA|d2GF G2GA|B2BG c2cA|d2DE F2GA|!\\nB2BG c2cA|d^cde f2 (3def|g2gf gbag|fdcA G2:|!'"
            ]
          },
          "metadata": {
            "tags": []
          },
          "execution_count": 3
        }
      ]
    },
    {
      "cell_type": "markdown",
      "metadata": {
        "id": "gfIkp3MgyB2x"
      },
      "source": [
        "# Criando um vocabulário\n",
        "\n",
        "Verificar os caracteres únicos"
      ]
    },
    {
      "cell_type": "code",
      "metadata": {
        "id": "TpP-JJ3AyBQT",
        "outputId": "ac6eff76-5b7c-414c-949b-c5caaa1fd169",
        "colab": {
          "base_uri": "https://localhost:8080/",
          "height": 35
        }
      },
      "source": [
        "songs_joined = \"\\n\\n\".join(songs)\n",
        "\n",
        "vocab = sorted(set(songs_joined))\n",
        "\n",
        "print ('Existem ', len(vocab), ' caracteres diferentes no vocabulário')"
      ],
      "execution_count": 4,
      "outputs": [
        {
          "output_type": "stream",
          "text": [
            "Existem  83  caracteres diferentes no vocabulário\n"
          ],
          "name": "stdout"
        }
      ]
    },
    {
      "cell_type": "markdown",
      "metadata": {
        "id": "EUTLYKC2zAPf"
      },
      "source": [
        "# Criando um dicionário de dados\n",
        "\n",
        "Vou pegar todos os carateres presentes no dataset e atribuir um valor numérico para cada um.\n",
        "\n",
        "ex: a = 0, b = 1, ...\n",
        "\n",
        "E também criarei um meio de voltarmos, colocando os caracteres em um array\n",
        "\n",
        "ex: `['a', 'b']`\n",
        "\n",
        "Assim saberemos que o caractere representado pelo número 0 é o 'a', pois ele ocupa a posição zero no array"
      ]
    },
    {
      "cell_type": "code",
      "metadata": {
        "id": "ZysVC6npzKms",
        "outputId": "c76c06c5-dc7f-406b-e5e7-ea34d38745ab",
        "colab": {
          "base_uri": "https://localhost:8080/",
          "height": 35
        }
      },
      "source": [
        "char2idx = {u:i for i, u in enumerate(vocab)}\n",
        "idx2char = np.array(vocab)\n",
        "\n",
        "print('em char2idx: ', list(char2idx.items())[0])"
      ],
      "execution_count": 5,
      "outputs": [
        {
          "output_type": "stream",
          "text": [
            "em char2idx:  ('\\n', 0)\n"
          ],
          "name": "stdout"
        }
      ]
    },
    {
      "cell_type": "markdown",
      "metadata": {
        "id": "EXgyap272Rb-"
      },
      "source": [
        "# Convertendo o array de letras nos numeros correspondentes do nosso diconário de dados"
      ]
    },
    {
      "cell_type": "code",
      "metadata": {
        "id": "uP4KsOkx165Q",
        "outputId": "4c443e1b-3440-4e4a-e015-39ce588850c1",
        "colab": {
          "base_uri": "https://localhost:8080/",
          "height": 35
        }
      },
      "source": [
        "def vectorize_string(string):\n",
        "    vectorized_output = np.array([char2idx[char] for char in string])\n",
        "    return vectorized_output\n",
        "\n",
        "vectorized_songs = vectorize_string(songs_joined)\n",
        "\n",
        "vectorized_songs"
      ],
      "execution_count": 6,
      "outputs": [
        {
          "output_type": "execute_result",
          "data": {
            "text/plain": [
              "array([49, 22, 14, ..., 22, 82,  2])"
            ]
          },
          "metadata": {
            "tags": []
          },
          "execution_count": 6
        }
      ]
    },
    {
      "cell_type": "markdown",
      "metadata": {
        "id": "appFziMH8Tei"
      },
      "source": [
        "# Definir função para pegar batchs de dados\n",
        "```python\n",
        "vectorized_songs = [1,2,3,4]\n",
        "\n",
        "seq_length = 3\n",
        "\n",
        "x = [1,2,3]\n",
        "y = [2,3,4]\n",
        "```"
      ]
    },
    {
      "cell_type": "code",
      "metadata": {
        "id": "W_dQfA2B8B_c"
      },
      "source": [
        "def get_batch(vectorized_songs, seq_length, batch_size):\n",
        "    n = len(vectorized_songs) - 1\n",
        "    idx = np.random.choice(n - seq_length, batch_size)\n",
        "\n",
        "    input_batch = [vectorized_songs[i : seq_length+i] for i in idx]\n",
        "    output_batch = [vectorized_songs[i+1 : seq_length+i+1] for i in idx]\n",
        "\n",
        "    x_batch = np.reshape(input_batch, [batch_size, seq_length])\n",
        "    y_batch = np.reshape(output_batch, [batch_size, seq_length])\n",
        "\n",
        "    return x_batch, y_batch"
      ],
      "execution_count": 7,
      "outputs": []
    },
    {
      "cell_type": "code",
      "metadata": {
        "id": "LERqg-_T9Wy_",
        "outputId": "8a552bd0-7cef-4266-db42-bb91955c1699",
        "colab": {
          "base_uri": "https://localhost:8080/",
          "height": 35
        }
      },
      "source": [
        "x_batch, y_batch = get_batch(vectorized_songs, seq_length=5, batch_size=1)\n",
        "\n",
        "print(x_batch, y_batch)"
      ],
      "execution_count": 8,
      "outputs": [
        {
          "output_type": "stream",
          "text": [
            "[[ 1 32 26 27 58]] [[32 26 27 58 82]]\n"
          ],
          "name": "stdout"
        }
      ]
    },
    {
      "cell_type": "markdown",
      "metadata": {
        "id": "xgA5aq0EAKxl"
      },
      "source": [
        "# Construindo o modelo\n",
        "\n",
        "uma camada `tf.keras.layers.Embedding`\n",
        "\n",
        "uma camada `tf.keras.layers.LSTM`\n",
        "\n",
        "uma camada `tf.keras.layers.Dense"
      ]
    },
    {
      "cell_type": "code",
      "metadata": {
        "id": "UviwHjJgAf-C",
        "outputId": "35a8af87-a2d0-4c95-d401-1bcdf3221ca3",
        "colab": {
          "base_uri": "https://localhost:8080/",
          "height": 272
        }
      },
      "source": [
        "def build_model(vocab_size, embedding_dim, rnn_units, batch_size):\n",
        "    model = tf.keras.Sequential([\n",
        "        tf.keras.layers.Embedding(vocab_size, embedding_dim, batch_input_shape=[batch_size, None]),\n",
        "        tf.keras.layers.LSTM(rnn_units, recurrent_activation='sigmoid', return_sequences=True, recurrent_initializer='glorot_uniform', stateful=True),\n",
        "        tf.keras.layers.Dense(vocab_size)\n",
        "    ])\n",
        "\n",
        "    return model\n",
        "\n",
        "model = build_model(len(vocab), embedding_dim=256, rnn_units=1024, batch_size=32)\n",
        "model.summary()"
      ],
      "execution_count": 20,
      "outputs": [
        {
          "output_type": "stream",
          "text": [
            "Model: \"sequential_2\"\n",
            "_________________________________________________________________\n",
            "Layer (type)                 Output Shape              Param #   \n",
            "=================================================================\n",
            "embedding_2 (Embedding)      (32, None, 256)           21248     \n",
            "_________________________________________________________________\n",
            "lstm_1 (LSTM)                (32, None, 1024)          5246976   \n",
            "_________________________________________________________________\n",
            "dense_1 (Dense)              (32, None, 83)            85075     \n",
            "=================================================================\n",
            "Total params: 5,353,299\n",
            "Trainable params: 5,353,299\n",
            "Non-trainable params: 0\n",
            "_________________________________________________________________\n"
          ],
          "name": "stdout"
        }
      ]
    },
    {
      "cell_type": "code",
      "metadata": {
        "id": "OovhYNmTzKL-",
        "outputId": "4caf97f7-9a69-484e-fe4c-cd8a0394e995",
        "colab": {
          "base_uri": "https://localhost:8080/",
          "height": 1000
        }
      },
      "source": [
        "x, y = get_batch(vectorized_songs=vectorized_songs, seq_length=100, batch_size=32)\n",
        "pred = model(x)\n",
        "pred"
      ],
      "execution_count": 21,
      "outputs": [
        {
          "output_type": "execute_result",
          "data": {
            "text/plain": [
              "<tf.Tensor: shape=(32, 100, 83), dtype=float32, numpy=\n",
              "array([[[-1.8323732e-03,  4.1002324e-03,  3.3811606e-03, ...,\n",
              "          7.5380877e-03,  1.0129531e-02, -2.4274306e-04],\n",
              "        [-3.5257824e-03, -2.6582791e-03,  1.6801446e-03, ...,\n",
              "         -3.2416609e-04,  6.7239432e-03, -2.6758511e-03],\n",
              "        [-6.6769756e-03, -3.5394996e-04,  2.0995210e-03, ...,\n",
              "         -7.2361622e-03,  2.0319573e-03, -2.4986470e-03],\n",
              "        ...,\n",
              "        [ 6.5698484e-03, -5.3877803e-04, -4.1704131e-03, ...,\n",
              "         -3.6411888e-03, -1.3557812e-03, -1.2198782e-02],\n",
              "        [ 1.0665262e-02,  7.1084395e-04, -2.4555698e-03, ...,\n",
              "         -8.4243203e-03, -2.1591131e-04, -5.6810174e-03],\n",
              "        [ 9.8171365e-03,  1.1887031e-03, -1.0693056e-04, ...,\n",
              "         -3.7951616e-03,  3.4708644e-03, -5.3682453e-03]],\n",
              "\n",
              "       [[-3.3320910e-03, -5.2235401e-03, -8.5501643e-03, ...,\n",
              "         -8.2426029e-04, -3.5396740e-03, -7.7688233e-03],\n",
              "        [-6.8058679e-03, -1.7128958e-03, -6.7624385e-03, ...,\n",
              "         -6.5903431e-03, -6.2679276e-03, -7.2745103e-03],\n",
              "        [-4.0684231e-03, -2.0700423e-03, -9.9630747e-03, ...,\n",
              "         -7.9818368e-03, -1.3526225e-02, -1.8178282e-02],\n",
              "        ...,\n",
              "        [-1.2689740e-03, -3.4974199e-03,  4.3281047e-03, ...,\n",
              "         -2.1120138e-03,  4.5788791e-03, -1.8478183e-03],\n",
              "        [ 1.1737037e-03, -2.8564471e-03,  2.7131541e-03, ...,\n",
              "         -6.4823171e-04,  1.9222382e-04, -4.7950391e-03],\n",
              "        [-1.5516537e-03, -5.1501803e-03, -3.0126092e-03, ...,\n",
              "          2.7532873e-03,  6.0549006e-04,  1.0225938e-03]],\n",
              "\n",
              "       [[-6.6296351e-03,  1.9919984e-03, -1.1603564e-03, ...,\n",
              "         -1.8964557e-03, -1.4826928e-03, -5.6710973e-04],\n",
              "        [-5.1110405e-03,  7.2078296e-04, -5.7268990e-03, ...,\n",
              "         -5.7685785e-03, -8.8879801e-03, -1.2249293e-02],\n",
              "        [-4.7269231e-03,  4.5285258e-03, -2.1604511e-03, ...,\n",
              "          2.9408692e-03,  4.5329682e-03, -8.8463463e-03],\n",
              "        ...,\n",
              "        [ 5.6984695e-03,  1.1922622e-03, -7.6567387e-04, ...,\n",
              "         -5.2241799e-03, -1.6553326e-02, -4.3102056e-03],\n",
              "        [ 6.9584148e-03, -2.3731147e-04, -1.0664612e-03, ...,\n",
              "         -4.3120258e-03, -1.5291939e-02, -6.1793765e-03],\n",
              "        [ 2.8564939e-03, -7.2220718e-03, -8.6215995e-03, ...,\n",
              "         -3.8257050e-03, -1.3908749e-02, -1.2808483e-02]],\n",
              "\n",
              "       ...,\n",
              "\n",
              "       [[-5.1028198e-03,  3.4456665e-05,  4.3479763e-03, ...,\n",
              "          3.6868684e-03,  5.2161259e-03,  6.5346803e-03],\n",
              "        [-9.7426036e-03, -6.3007418e-04,  3.9984565e-03, ...,\n",
              "          2.1306253e-03,  7.9738982e-03,  5.8527831e-03],\n",
              "        [-7.5305440e-03,  4.6794615e-03,  3.4683058e-03, ...,\n",
              "         -2.7500265e-03, -6.5617496e-04,  7.4847257e-03],\n",
              "        ...,\n",
              "        [ 1.8470474e-03, -2.6790076e-03, -6.0084732e-03, ...,\n",
              "         -3.3200439e-03, -1.7252848e-02, -1.5342891e-02],\n",
              "        [ 4.8045134e-03, -2.4457150e-03, -4.7580926e-03, ...,\n",
              "         -2.7150433e-03, -1.5133744e-02, -1.4155960e-02],\n",
              "        [ 1.8884731e-03, -8.3003342e-03, -1.1168379e-02, ...,\n",
              "         -2.5978587e-03, -1.3342615e-02, -1.8571015e-02]],\n",
              "\n",
              "       [[ 1.6317522e-03,  8.9257240e-04,  2.9138611e-03, ...,\n",
              "         -3.0387542e-03,  5.9053656e-03, -2.7669496e-03],\n",
              "        [-4.7761100e-04,  1.1380961e-03,  1.5465982e-03, ...,\n",
              "          4.6477886e-05,  6.4105461e-03, -4.7426419e-03],\n",
              "        [-6.5407977e-03,  4.4762017e-04,  1.6199538e-03, ...,\n",
              "         -1.3464317e-04,  8.7478720e-03, -2.0009859e-03],\n",
              "        ...,\n",
              "        [ 8.6654676e-04, -5.7298001e-03, -2.0721839e-03, ...,\n",
              "         -7.4479342e-03, -2.9846926e-03, -1.7440973e-03],\n",
              "        [ 4.6666805e-03, -9.4434489e-03, -3.3300829e-03, ...,\n",
              "         -8.9329071e-03, -1.0600087e-03, -7.0892647e-03],\n",
              "        [ 9.0777669e-03, -6.0077850e-03, -1.2375265e-03, ...,\n",
              "         -1.2150973e-02, -2.0542215e-03, -7.7474583e-04]],\n",
              "\n",
              "       [[-6.6296351e-03,  1.9919984e-03, -1.1603564e-03, ...,\n",
              "         -1.8964557e-03, -1.4826928e-03, -5.6710973e-04],\n",
              "        [-5.1110405e-03,  7.2078296e-04, -5.7268990e-03, ...,\n",
              "         -5.7685785e-03, -8.8879801e-03, -1.2249293e-02],\n",
              "        [-2.5382913e-03,  4.6605768e-05, -9.7684171e-03, ...,\n",
              "         -8.8642500e-03, -1.3847806e-02, -2.0595413e-02],\n",
              "        ...,\n",
              "        [-5.0111469e-03,  3.3049439e-03,  3.1318429e-03, ...,\n",
              "         -3.8498873e-04, -1.8307897e-03,  3.2364659e-04],\n",
              "        [-1.1183407e-02,  2.9521075e-03,  1.4856155e-03, ...,\n",
              "         -8.6188130e-04, -2.3904264e-03, -7.3129003e-04],\n",
              "        [-1.2804238e-02, -4.4462928e-03, -7.7897916e-03, ...,\n",
              "         -6.7963265e-05, -4.6547269e-03, -8.5238228e-03]]], dtype=float32)>"
            ]
          },
          "metadata": {
            "tags": []
          },
          "execution_count": 21
        }
      ]
    },
    {
      "cell_type": "code",
      "metadata": {
        "id": "i2fLMbMo1bzU"
      },
      "source": [
        ""
      ],
      "execution_count": null,
      "outputs": []
    }
  ]
}