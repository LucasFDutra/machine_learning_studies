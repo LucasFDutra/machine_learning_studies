{
  "nbformat": 4,
  "nbformat_minor": 0,
  "metadata": {
    "colab": {
      "name": "Music_Generation_LSTM.ipynb",
      "provenance": [],
      "include_colab_link": true
    },
    "kernelspec": {
      "name": "python3",
      "display_name": "Python 3"
    },
    "accelerator": "GPU"
  },
  "cells": [
    {
      "cell_type": "markdown",
      "metadata": {
        "id": "view-in-github",
        "colab_type": "text"
      },
      "source": [
        "<a href=\"https://colab.research.google.com/github/LucasFDutra/machine_learning_studies/blob/master/machine_learning_studies/Music_Generation_LSTM.ipynb\" target=\"_parent\"><img src=\"https://colab.research.google.com/assets/colab-badge.svg\" alt=\"Open In Colab\"/></a>"
      ]
    },
    {
      "cell_type": "markdown",
      "metadata": {
        "id": "vBHbQSfXxC5R"
      },
      "source": [
        "# Import libs\n"
      ]
    },
    {
      "cell_type": "code",
      "metadata": {
        "id": "1bfFxs6OhT4c",
        "outputId": "e7bdd8dc-1e5f-443d-b67e-d2e5e38368fe",
        "colab": {
          "base_uri": "https://localhost:8080/",
          "height": 170
        }
      },
      "source": [
        "# Import Tensorflow 2.0\n",
        "%tensorflow_version 2.x\n",
        "import tensorflow as tf \n",
        "\n",
        "# Download and import the MIT 6.S191 package\n",
        "!pip install mitdeeplearning\n",
        "import mitdeeplearning as mdl\n",
        "\n",
        "# Import all remaining packages\n",
        "import numpy as np\n",
        "assert len(tf.config.list_physical_devices('GPU')) > 0"
      ],
      "execution_count": 22,
      "outputs": [
        {
          "output_type": "stream",
          "text": [
            "Requirement already satisfied: mitdeeplearning in /usr/local/lib/python3.6/dist-packages (0.1.2)\n",
            "Requirement already satisfied: numpy in /usr/local/lib/python3.6/dist-packages (from mitdeeplearning) (1.18.5)\n",
            "Requirement already satisfied: tqdm in /usr/local/lib/python3.6/dist-packages (from mitdeeplearning) (4.41.1)\n",
            "Requirement already satisfied: regex in /usr/local/lib/python3.6/dist-packages (from mitdeeplearning) (2019.12.20)\n",
            "Requirement already satisfied: gym in /usr/local/lib/python3.6/dist-packages (from mitdeeplearning) (0.17.2)\n",
            "Requirement already satisfied: pyglet<=1.5.0,>=1.4.0 in /usr/local/lib/python3.6/dist-packages (from gym->mitdeeplearning) (1.5.0)\n",
            "Requirement already satisfied: cloudpickle<1.4.0,>=1.2.0 in /usr/local/lib/python3.6/dist-packages (from gym->mitdeeplearning) (1.3.0)\n",
            "Requirement already satisfied: scipy in /usr/local/lib/python3.6/dist-packages (from gym->mitdeeplearning) (1.4.1)\n",
            "Requirement already satisfied: future in /usr/local/lib/python3.6/dist-packages (from pyglet<=1.5.0,>=1.4.0->gym->mitdeeplearning) (0.16.0)\n"
          ],
          "name": "stdout"
        }
      ]
    },
    {
      "cell_type": "markdown",
      "metadata": {
        "id": "rupwHB5tx1M1"
      },
      "source": [
        "# Dataset\n",
        "\n",
        "Vou pegar os dados com o auxilio da biblioteca do MIT\n"
      ]
    },
    {
      "cell_type": "code",
      "metadata": {
        "id": "NUhh9ld5xp01",
        "outputId": "65d62a1a-b1ee-49c6-cbf2-d847bd7cb7b3",
        "colab": {
          "base_uri": "https://localhost:8080/",
          "height": 34
        }
      },
      "source": [
        "songs = mdl.lab1.load_training_data()"
      ],
      "execution_count": 23,
      "outputs": [
        {
          "output_type": "stream",
          "text": [
            "Found 816 songs in text\n"
          ],
          "name": "stdout"
        }
      ]
    },
    {
      "cell_type": "code",
      "metadata": {
        "id": "QirePGwNx8nD",
        "outputId": "aa0507ae-f5bc-438a-f717-cd82704689b7",
        "colab": {
          "base_uri": "https://localhost:8080/",
          "height": 52
        }
      },
      "source": [
        "songs[0]"
      ],
      "execution_count": 24,
      "outputs": [
        {
          "output_type": "execute_result",
          "data": {
            "application/vnd.google.colaboratory.intrinsic+json": {
              "type": "string"
            },
            "text/plain": [
              "'X:2\\nT:An Buachaill Dreoite\\nZ: id:dc-hornpipe-2\\nM:C|\\nL:1/8\\nK:G Major\\nGF|DGGB d2GB|d2GF Gc (3AGF|DGGB d2GB|dBcA F2GF|!\\nDGGB d2GF|DGGF G2Ge|fgaf gbag|fdcA G2:|!\\nGA|B2BG c2cA|d2GF G2GA|B2BG c2cA|d2DE F2GA|!\\nB2BG c2cA|d^cde f2 (3def|g2gf gbag|fdcA G2:|!'"
            ]
          },
          "metadata": {
            "tags": []
          },
          "execution_count": 24
        }
      ]
    },
    {
      "cell_type": "markdown",
      "metadata": {
        "id": "gfIkp3MgyB2x"
      },
      "source": [
        "# Criando um vocabulário\n",
        "\n",
        "Verificar os caracteres únicos"
      ]
    },
    {
      "cell_type": "code",
      "metadata": {
        "id": "TpP-JJ3AyBQT",
        "outputId": "d82facbf-88b8-4daf-d2ba-77a98585b221",
        "colab": {
          "base_uri": "https://localhost:8080/",
          "height": 34
        }
      },
      "source": [
        "songs_joined = \"\\n\\n\".join(songs)\n",
        "\n",
        "vocab = sorted(set(songs_joined))\n",
        "\n",
        "print ('Existem ', len(vocab), ' caracteres diferentes no vocabulário')"
      ],
      "execution_count": 25,
      "outputs": [
        {
          "output_type": "stream",
          "text": [
            "Existem  83  caracteres diferentes no vocabulário\n"
          ],
          "name": "stdout"
        }
      ]
    },
    {
      "cell_type": "markdown",
      "metadata": {
        "id": "EUTLYKC2zAPf"
      },
      "source": [
        "# Criando um dicionário de dados\n",
        "\n",
        "Vou pegar todos os carateres presentes no dataset e atribuir um valor numérico para cada um.\n",
        "\n",
        "ex: a = 0, b = 1, ...\n",
        "\n",
        "E também criarei um meio de voltarmos, colocando os caracteres em um array\n",
        "\n",
        "ex: `['a', 'b']`\n",
        "\n",
        "Assim saberemos que o caractere representado pelo número 0 é o 'a', pois ele ocupa a posição zero no array"
      ]
    },
    {
      "cell_type": "code",
      "metadata": {
        "id": "ZysVC6npzKms",
        "outputId": "0221fc3c-d0cf-4f83-c259-91484fc83cf5",
        "colab": {
          "base_uri": "https://localhost:8080/",
          "height": 34
        }
      },
      "source": [
        "char2idx = {u:i for i, u in enumerate(vocab)}\n",
        "idx2char = np.array(vocab)\n",
        "\n",
        "print('em char2idx: ', list(char2idx.items())[0])"
      ],
      "execution_count": 26,
      "outputs": [
        {
          "output_type": "stream",
          "text": [
            "em char2idx:  ('\\n', 0)\n"
          ],
          "name": "stdout"
        }
      ]
    },
    {
      "cell_type": "markdown",
      "metadata": {
        "id": "EXgyap272Rb-"
      },
      "source": [
        "# Convertendo o array de letras nos numeros correspondentes do nosso diconário de dados"
      ]
    },
    {
      "cell_type": "code",
      "metadata": {
        "id": "uP4KsOkx165Q",
        "outputId": "d3f74807-d3e3-42d0-95fc-26f92961b925",
        "colab": {
          "base_uri": "https://localhost:8080/",
          "height": 34
        }
      },
      "source": [
        "def vectorize_string(string):\n",
        "    vectorized_output = np.array([char2idx[char] for char in string])\n",
        "    return vectorized_output\n",
        "\n",
        "vectorized_songs = vectorize_string(songs_joined)\n",
        "\n",
        "vectorized_songs"
      ],
      "execution_count": 27,
      "outputs": [
        {
          "output_type": "execute_result",
          "data": {
            "text/plain": [
              "array([49, 22, 14, ..., 22, 82,  2])"
            ]
          },
          "metadata": {
            "tags": []
          },
          "execution_count": 27
        }
      ]
    },
    {
      "cell_type": "markdown",
      "metadata": {
        "id": "appFziMH8Tei"
      },
      "source": [
        "# Definir função para pegar batchs de dados\n",
        "```python\n",
        "vectorized_songs = [1,2,3,4]\n",
        "\n",
        "seq_length = 3\n",
        "\n",
        "x = [1,2,3]\n",
        "y = [2,3,4]\n",
        "```"
      ]
    },
    {
      "cell_type": "code",
      "metadata": {
        "id": "W_dQfA2B8B_c"
      },
      "source": [
        "def get_batch(vectorized_songs, seq_length, batch_size):\n",
        "    n = len(vectorized_songs) - 1\n",
        "    idx = np.random.choice(n - seq_length, batch_size)\n",
        "\n",
        "    input_batch = [vectorized_songs[i : seq_length+i] for i in idx]\n",
        "    output_batch = [vectorized_songs[i+1 : seq_length+i+1] for i in idx]\n",
        "\n",
        "    x_batch = np.reshape(input_batch, [batch_size, seq_length])\n",
        "    y_batch = np.reshape(output_batch, [batch_size, seq_length])\n",
        "\n",
        "    return x_batch, y_batch"
      ],
      "execution_count": 28,
      "outputs": []
    },
    {
      "cell_type": "code",
      "metadata": {
        "id": "LERqg-_T9Wy_",
        "outputId": "3e7f4409-c629-4bee-dd46-1a3f35aece5c",
        "colab": {
          "base_uri": "https://localhost:8080/",
          "height": 34
        }
      },
      "source": [
        "x_batch, y_batch = get_batch(vectorized_songs, seq_length=5, batch_size=1)\n",
        "\n",
        "print(x_batch, y_batch)"
      ],
      "execution_count": 29,
      "outputs": [
        {
          "output_type": "stream",
          "text": [
            "[[60 59 60 82  2]] [[59 60 82  2  0]]\n"
          ],
          "name": "stdout"
        }
      ]
    },
    {
      "cell_type": "markdown",
      "metadata": {
        "id": "xgA5aq0EAKxl"
      },
      "source": [
        "# Construindo o modelo\n",
        "\n",
        "uma camada `tf.keras.layers.Embedding`\n",
        "\n",
        "uma camada `tf.keras.layers.LSTM`\n",
        "\n",
        "uma camada `tf.keras.layers.Dense"
      ]
    },
    {
      "cell_type": "code",
      "metadata": {
        "id": "UviwHjJgAf-C",
        "outputId": "81a1a732-7075-4945-a5ae-2eb279f088b8",
        "colab": {
          "base_uri": "https://localhost:8080/",
          "height": 255
        }
      },
      "source": [
        "def build_model(vocab_size, embedding_dim, rnn_units, batch_size):\n",
        "    model = tf.keras.Sequential([\n",
        "        tf.keras.layers.Embedding(vocab_size, embedding_dim, batch_input_shape=[batch_size, None]),\n",
        "        tf.keras.layers.LSTM(rnn_units, recurrent_activation='sigmoid', return_sequences=True, recurrent_initializer='glorot_uniform', stateful=True),\n",
        "        tf.keras.layers.Dense(vocab_size)\n",
        "    ])\n",
        "\n",
        "    return model\n",
        "\n",
        "model = build_model(len(vocab), embedding_dim=256, rnn_units=1024, batch_size=32)\n",
        "model.summary()"
      ],
      "execution_count": 30,
      "outputs": [
        {
          "output_type": "stream",
          "text": [
            "Model: \"sequential_3\"\n",
            "_________________________________________________________________\n",
            "Layer (type)                 Output Shape              Param #   \n",
            "=================================================================\n",
            "embedding_3 (Embedding)      (32, None, 256)           21248     \n",
            "_________________________________________________________________\n",
            "lstm_2 (LSTM)                (32, None, 1024)          5246976   \n",
            "_________________________________________________________________\n",
            "dense_2 (Dense)              (32, None, 83)            85075     \n",
            "=================================================================\n",
            "Total params: 5,353,299\n",
            "Trainable params: 5,353,299\n",
            "Non-trainable params: 0\n",
            "_________________________________________________________________\n"
          ],
          "name": "stdout"
        }
      ]
    },
    {
      "cell_type": "code",
      "metadata": {
        "id": "OovhYNmTzKL-",
        "outputId": "67415111-c2e9-46c3-913a-1a8225793c44",
        "colab": {
          "base_uri": "https://localhost:8080/",
          "height": 1000
        }
      },
      "source": [
        "x, y = get_batch(vectorized_songs=vectorized_songs, seq_length=100, batch_size=32)\n",
        "pred = model(x)\n",
        "pred"
      ],
      "execution_count": 31,
      "outputs": [
        {
          "output_type": "execute_result",
          "data": {
            "text/plain": [
              "<tf.Tensor: shape=(32, 100, 83), dtype=float32, numpy=\n",
              "array([[[ 2.34618690e-03,  1.42713194e-03, -6.00618427e-04, ...,\n",
              "          7.28861894e-04, -2.77000340e-03, -5.20943524e-03],\n",
              "        [ 7.36461952e-03,  1.68872508e-03,  1.41698902e-03, ...,\n",
              "          1.17855787e-04, -2.01251218e-03, -3.54254525e-03],\n",
              "        [ 8.05306714e-03,  2.15858640e-03,  4.02011792e-04, ...,\n",
              "          6.15835423e-04, -4.05140594e-03, -8.82963743e-03],\n",
              "        ...,\n",
              "        [ 1.42867975e-02, -1.79493672e-03, -4.65434697e-03, ...,\n",
              "          9.79622640e-03,  1.68226846e-02,  9.79590509e-03],\n",
              "        [ 1.10429861e-02, -3.86076933e-03, -8.94935150e-03, ...,\n",
              "          7.51943793e-03,  5.17214881e-03,  4.76680184e-03],\n",
              "        [ 1.67431124e-02,  2.60829669e-03, -5.55738714e-03, ...,\n",
              "          8.12738482e-03,  2.94378609e-03,  6.06860220e-03]],\n",
              "\n",
              "       [[ 4.31632111e-03,  3.79699282e-03, -4.06862749e-03, ...,\n",
              "         -5.98797295e-03,  6.60364982e-03, -8.62081069e-04],\n",
              "        [ 4.15931456e-03, -1.01192854e-05, -7.05041038e-03, ...,\n",
              "         -6.57857023e-03, -3.59029276e-03, -2.13753409e-03],\n",
              "        [ 6.35322835e-03,  2.17756000e-03, -8.81167315e-03, ...,\n",
              "         -1.15605099e-02,  2.35425308e-03,  7.57718459e-03],\n",
              "        ...,\n",
              "        [ 2.21334025e-03,  4.05976502e-03, -1.08151659e-02, ...,\n",
              "          7.02087395e-03,  5.33666834e-03, -4.61987127e-03],\n",
              "        [ 3.66380392e-03,  5.11159608e-03, -1.18698310e-02, ...,\n",
              "         -1.36079267e-04,  1.15501750e-02, -4.96679544e-03],\n",
              "        [ 7.43439049e-03,  3.24151875e-03, -7.11132586e-03, ...,\n",
              "         -8.33057449e-04,  1.02373650e-02, -2.37219431e-03]],\n",
              "\n",
              "       [[ 1.00226921e-03, -3.44922417e-03, -1.55867147e-03, ...,\n",
              "         -1.97592960e-03,  3.25747160e-03,  1.09369867e-04],\n",
              "        [ 1.00301951e-03, -1.65367266e-04, -7.56207039e-04, ...,\n",
              "         -1.11867907e-04,  3.12231435e-03, -4.47071710e-04],\n",
              "        [ 5.57834748e-03,  4.31929063e-03, -4.77622822e-03, ...,\n",
              "         -5.13204979e-03,  1.02327066e-02, -1.40581874e-03],\n",
              "        ...,\n",
              "        [ 1.42889526e-02, -1.04757417e-02, -6.45016041e-03, ...,\n",
              "         -6.08742703e-04,  7.00041419e-03,  8.46734829e-03],\n",
              "        [ 1.94781777e-02, -2.58579804e-03, -4.44219401e-03, ...,\n",
              "          9.80339479e-04,  5.26872370e-03,  9.08261258e-03],\n",
              "        [ 1.75160654e-02, -5.57103381e-03, -5.48646878e-03, ...,\n",
              "         -4.24840197e-04,  9.26132593e-03,  6.75218413e-03]],\n",
              "\n",
              "       ...,\n",
              "\n",
              "       [[ 9.72801354e-04,  6.23115897e-03, -3.23041482e-03, ...,\n",
              "          3.48960143e-03,  2.94277770e-03, -2.28463626e-03],\n",
              "        [-1.36626151e-03,  4.25989134e-03, -7.12540140e-03, ...,\n",
              "          3.78702348e-03,  3.54264583e-03, -2.00633914e-03],\n",
              "        [ 1.71770272e-03,  6.16968144e-03, -9.51918308e-03, ...,\n",
              "         -2.92293169e-03,  9.56424419e-03, -1.47899205e-03],\n",
              "        ...,\n",
              "        [ 1.59032270e-02,  5.79606416e-03, -8.64542834e-03, ...,\n",
              "          1.24733092e-03,  6.14174642e-03,  5.30229742e-03],\n",
              "        [ 1.63677949e-02, -2.04337761e-03, -8.22144281e-03, ...,\n",
              "          5.30671328e-03,  1.24977324e-02,  1.27019826e-02],\n",
              "        [ 1.15284044e-02, -4.21234593e-03, -4.73954016e-04, ...,\n",
              "          1.14421714e-02,  9.14933626e-03,  7.17340317e-03]],\n",
              "\n",
              "       [[ 6.26805006e-03, -1.42176508e-03, -1.01920427e-03, ...,\n",
              "          3.53891356e-03,  3.71553074e-03,  6.44946424e-03],\n",
              "        [ 1.00008883e-02,  5.54502476e-04, -8.58951360e-03, ...,\n",
              "          1.93037745e-03,  6.63620420e-03,  1.76028779e-03],\n",
              "        [ 3.79199488e-03, -1.56338653e-03, -2.34982511e-03, ...,\n",
              "          6.86376216e-03,  6.85688760e-03,  2.25514430e-03],\n",
              "        ...,\n",
              "        [ 8.46829731e-03,  5.25093696e-04, -2.87050032e-03, ...,\n",
              "         -5.00691123e-04,  1.50244907e-02,  9.35050845e-03],\n",
              "        [ 1.12045566e-02,  3.93963512e-03, -6.24402892e-03, ...,\n",
              "         -5.07514086e-03,  2.01025978e-02,  5.73646091e-03],\n",
              "        [ 9.80492122e-03, -1.29908993e-04, -8.48098472e-03, ...,\n",
              "         -4.68750438e-03,  8.42967443e-03,  2.43510911e-03]],\n",
              "\n",
              "       [[ 3.69272567e-03, -2.04772688e-04, -1.18147512e-03, ...,\n",
              "          3.97619791e-04, -3.91823286e-03, -1.06953445e-03],\n",
              "        [ 7.37638213e-03,  2.94557563e-03, -4.97216266e-03, ...,\n",
              "         -5.08948741e-03,  3.86434514e-03, -8.17143358e-04],\n",
              "        [ 5.11569437e-03,  8.36680294e-04, -2.54366256e-04, ...,\n",
              "         -7.66483252e-04, -5.78308536e-04,  3.78318690e-03],\n",
              "        ...,\n",
              "        [ 1.65051855e-02,  4.65572230e-04, -7.08751287e-03, ...,\n",
              "         -2.62237340e-03,  1.07585602e-02,  1.23544130e-03],\n",
              "        [ 1.65569670e-02, -4.06947639e-03, -5.92065277e-03, ...,\n",
              "         -2.18787580e-03,  8.33803695e-03,  3.20938788e-03],\n",
              "        [ 1.26819722e-02, -6.55706320e-03, -7.14205392e-03, ...,\n",
              "         -2.00022012e-03,  5.82815707e-03,  6.71547791e-03]]],\n",
              "      dtype=float32)>"
            ]
          },
          "metadata": {
            "tags": []
          },
          "execution_count": 31
        }
      ]
    },
    {
      "cell_type": "code",
      "metadata": {
        "id": "paupyK1t8XZh",
        "outputId": "693ef646-1de4-4bee-c455-de2098212511",
        "colab": {
          "base_uri": "https://localhost:8080/",
          "height": 34
        }
      },
      "source": [
        "pred[0].shape"
      ],
      "execution_count": 37,
      "outputs": [
        {
          "output_type": "execute_result",
          "data": {
            "text/plain": [
              "TensorShape([100, 83])"
            ]
          },
          "metadata": {
            "tags": []
          },
          "execution_count": 37
        }
      ]
    },
    {
      "cell_type": "code",
      "metadata": {
        "id": "i2fLMbMo1bzU",
        "outputId": "555f7146-c8cc-4c10-a3e7-2a9d05715ccf",
        "colab": {
          "base_uri": "https://localhost:8080/",
          "height": 119
        }
      },
      "source": [
        "sampled_indices = tf.random.categorical(pred[0], num_samples=1)\n",
        "sampled_indices = tf.squeeze(sampled_indices,axis=-1).numpy()\n",
        "sampled_indices"
      ],
      "execution_count": 41,
      "outputs": [
        {
          "output_type": "execute_result",
          "data": {
            "text/plain": [
              "array([80, 14, 48,  3, 68, 14, 68, 61, 45, 40, 26,  0, 75, 74, 74, 60, 48,\n",
              "       31, 30, 15, 63, 37, 21, 30, 27, 10, 13, 13, 12, 59, 37, 17, 55, 19,\n",
              "        7,  7, 40, 15,  4, 12, 16, 15, 41, 20, 27, 22, 60, 15, 76, 16, 63,\n",
              "       74, 71, 52, 25, 30,  3, 36,  1, 41, 40, 21, 69,  7, 63, 72, 61, 31,\n",
              "       24, 40, 70, 67, 82, 67, 11, 47,  8, 37, 25, 80, 12, 47, 19, 21, 12,\n",
              "       15, 55,  5, 35, 20, 77, 17, 66, 57, 56, 65, 69, 21, 63, 24])"
            ]
          },
          "metadata": {
            "tags": []
          },
          "execution_count": 41
        }
      ]
    },
    {
      "cell_type": "markdown",
      "metadata": {
        "id": "zpPQCk3-BJIA"
      },
      "source": [
        "# Calculando a perda"
      ]
    },
    {
      "cell_type": "code",
      "metadata": {
        "id": "bZsaVyJ59sun",
        "outputId": "789dd03d-8dfe-4e8c-981c-751849dddb56",
        "colab": {
          "base_uri": "https://localhost:8080/",
          "height": 255
        }
      },
      "source": [
        "def compute_loss(y_true, y_pred):\n",
        "    loss = tf.keras.losses.sparse_categorical_crossentropy(y_true, y_pred, from_logits=True)\n",
        "    return loss\n",
        "\n",
        "example_batch_loss = compute_loss(y, pred)\n",
        "example_batch_loss"
      ],
      "execution_count": 121,
      "outputs": [
        {
          "output_type": "execute_result",
          "data": {
            "text/plain": [
              "<tf.Tensor: shape=(32, 100), dtype=float32, numpy=\n",
              "array([[4.417932 , 4.4255557, 4.4291143, ..., 4.425583 , 4.4246116,\n",
              "        4.4168687],\n",
              "       [4.424343 , 4.420055 , 4.4208255, ..., 4.4234843, 4.4082265,\n",
              "        4.413118 ],\n",
              "       [4.415841 , 4.4199114, 4.421339 , ..., 4.426486 , 4.417754 ,\n",
              "        4.413988 ],\n",
              "       ...,\n",
              "       [4.4255066, 4.421087 , 4.4281716, ..., 4.412753 , 4.435701 ,\n",
              "        4.419826 ],\n",
              "       [4.4198995, 4.4246593, 4.413592 , ..., 4.409494 , 4.4317822,\n",
              "        4.4178486],\n",
              "       [4.4200954, 4.423635 , 4.4131417, ..., 4.416474 , 4.4195123,\n",
              "        4.4114084]], dtype=float32)>"
            ]
          },
          "metadata": {
            "tags": []
          },
          "execution_count": 121
        }
      ]
    },
    {
      "cell_type": "code",
      "metadata": {
        "id": "r8QyEhg0_804",
        "outputId": "1b40427d-c8e7-4df3-f8f7-13bcfa859fec",
        "colab": {
          "base_uri": "https://localhost:8080/",
          "height": 34
        }
      },
      "source": [
        "example_batch_loss.numpy().mean()"
      ],
      "execution_count": 122,
      "outputs": [
        {
          "output_type": "execute_result",
          "data": {
            "text/plain": [
              "4.41927"
            ]
          },
          "metadata": {
            "tags": []
          },
          "execution_count": 122
        }
      ]
    },
    {
      "cell_type": "code",
      "metadata": {
        "id": "2KGKRXqvGMkC"
      },
      "source": [
        ""
      ],
      "execution_count": null,
      "outputs": []
    }
  ]
}