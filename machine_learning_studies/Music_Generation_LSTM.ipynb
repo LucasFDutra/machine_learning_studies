{
  "nbformat": 4,
  "nbformat_minor": 0,
  "metadata": {
    "colab": {
      "name": "Music_Generation_LSTM.ipynb",
      "provenance": [],
      "toc_visible": true,
      "include_colab_link": true
    },
    "kernelspec": {
      "name": "python3",
      "display_name": "Python 3"
    },
    "accelerator": "GPU"
  },
  "cells": [
    {
      "cell_type": "markdown",
      "metadata": {
        "id": "view-in-github",
        "colab_type": "text"
      },
      "source": [
        "<a href=\"https://colab.research.google.com/github/LucasFDutra/machine_learning_studies/blob/master/machine_learning_studies/Music_Generation_LSTM.ipynb\" target=\"_parent\"><img src=\"https://colab.research.google.com/assets/colab-badge.svg\" alt=\"Open In Colab\"/></a>"
      ]
    },
    {
      "cell_type": "markdown",
      "metadata": {
        "id": "vBHbQSfXxC5R"
      },
      "source": [
        "# Import libs\n"
      ]
    },
    {
      "cell_type": "code",
      "metadata": {
        "id": "1bfFxs6OhT4c",
        "outputId": "ca292f0a-faa1-4c35-d381-3a1493bdf737",
        "colab": {
          "base_uri": "https://localhost:8080/",
          "height": 345
        }
      },
      "source": [
        "# Import Tensorflow 2.0\n",
        "%tensorflow_version 2.x\n",
        "import tensorflow as tf \n",
        "\n",
        "# Download and import the MIT 6.S191 package\n",
        "!pip install mitdeeplearning\n",
        "import mitdeeplearning as mdl\n",
        "\n",
        "# Import all remaining packages\n",
        "import numpy as np\n",
        "assert len(tf.config.list_physical_devices('GPU')) > 0"
      ],
      "execution_count": 1,
      "outputs": [
        {
          "output_type": "stream",
          "text": [
            "Collecting mitdeeplearning\n",
            "\u001b[?25l  Downloading https://files.pythonhosted.org/packages/8b/3b/b9174b68dc10832356d02a2d83a64b43a24f1762c172754407d22fc8f960/mitdeeplearning-0.1.2.tar.gz (2.1MB)\n",
            "\u001b[K     |████████████████████████████████| 2.1MB 4.5MB/s \n",
            "\u001b[?25hRequirement already satisfied: numpy in /usr/local/lib/python3.6/dist-packages (from mitdeeplearning) (1.18.5)\n",
            "Requirement already satisfied: regex in /usr/local/lib/python3.6/dist-packages (from mitdeeplearning) (2019.12.20)\n",
            "Requirement already satisfied: tqdm in /usr/local/lib/python3.6/dist-packages (from mitdeeplearning) (4.41.1)\n",
            "Requirement already satisfied: gym in /usr/local/lib/python3.6/dist-packages (from mitdeeplearning) (0.17.2)\n",
            "Requirement already satisfied: scipy in /usr/local/lib/python3.6/dist-packages (from gym->mitdeeplearning) (1.4.1)\n",
            "Requirement already satisfied: pyglet<=1.5.0,>=1.4.0 in /usr/local/lib/python3.6/dist-packages (from gym->mitdeeplearning) (1.5.0)\n",
            "Requirement already satisfied: cloudpickle<1.4.0,>=1.2.0 in /usr/local/lib/python3.6/dist-packages (from gym->mitdeeplearning) (1.3.0)\n",
            "Requirement already satisfied: future in /usr/local/lib/python3.6/dist-packages (from pyglet<=1.5.0,>=1.4.0->gym->mitdeeplearning) (0.16.0)\n",
            "Building wheels for collected packages: mitdeeplearning\n",
            "  Building wheel for mitdeeplearning (setup.py) ... \u001b[?25l\u001b[?25hdone\n",
            "  Created wheel for mitdeeplearning: filename=mitdeeplearning-0.1.2-cp36-none-any.whl size=2114585 sha256=7c6eebff0f6ce76d35a662b20fd8427abe0296db1705b47170c761d9b6a42d9c\n",
            "  Stored in directory: /root/.cache/pip/wheels/27/e1/73/5f01c787621d8a3c857f59876c79e304b9b64db9ff5bd61b74\n",
            "Successfully built mitdeeplearning\n",
            "Installing collected packages: mitdeeplearning\n",
            "Successfully installed mitdeeplearning-0.1.2\n"
          ],
          "name": "stdout"
        }
      ]
    },
    {
      "cell_type": "markdown",
      "metadata": {
        "id": "rupwHB5tx1M1"
      },
      "source": [
        "# Dataset\n",
        "\n",
        "Vou pegar os dados com o auxilio da biblioteca do MIT\n"
      ]
    },
    {
      "cell_type": "code",
      "metadata": {
        "id": "NUhh9ld5xp01",
        "outputId": "a4228c36-67fd-450a-a929-0732e942a8ae",
        "colab": {
          "base_uri": "https://localhost:8080/",
          "height": 35
        }
      },
      "source": [
        "songs = mdl.lab1.load_training_data()"
      ],
      "execution_count": 2,
      "outputs": [
        {
          "output_type": "stream",
          "text": [
            "Found 816 songs in text\n"
          ],
          "name": "stdout"
        }
      ]
    },
    {
      "cell_type": "code",
      "metadata": {
        "id": "QirePGwNx8nD",
        "outputId": "a3dfeb1a-56c6-48d9-bbfa-5379d7f08b3f",
        "colab": {
          "base_uri": "https://localhost:8080/",
          "height": 54
        }
      },
      "source": [
        "songs[0]"
      ],
      "execution_count": 5,
      "outputs": [
        {
          "output_type": "execute_result",
          "data": {
            "application/vnd.google.colaboratory.intrinsic+json": {
              "type": "string"
            },
            "text/plain": [
              "'X:2\\nT:An Buachaill Dreoite\\nZ: id:dc-hornpipe-2\\nM:C|\\nL:1/8\\nK:G Major\\nGF|DGGB d2GB|d2GF Gc (3AGF|DGGB d2GB|dBcA F2GF|!\\nDGGB d2GF|DGGF G2Ge|fgaf gbag|fdcA G2:|!\\nGA|B2BG c2cA|d2GF G2GA|B2BG c2cA|d2DE F2GA|!\\nB2BG c2cA|d^cde f2 (3def|g2gf gbag|fdcA G2:|!'"
            ]
          },
          "metadata": {
            "tags": []
          },
          "execution_count": 5
        }
      ]
    },
    {
      "cell_type": "markdown",
      "metadata": {
        "id": "gfIkp3MgyB2x"
      },
      "source": [
        "# Criando um vocabulário\n",
        "\n",
        "Verificar os caracteres únicos"
      ]
    },
    {
      "cell_type": "code",
      "metadata": {
        "id": "TpP-JJ3AyBQT",
        "outputId": "481098f3-4f7e-4eab-993a-3c077688068b",
        "colab": {
          "base_uri": "https://localhost:8080/",
          "height": 35
        }
      },
      "source": [
        "songs_joined = \"\\n\\n\".join(songs)\n",
        "\n",
        "vocab = sorted(set(songs_joined))\n",
        "\n",
        "print ('Existem ', len(vocab), ' caracteres diferentes no vocabulário')"
      ],
      "execution_count": 9,
      "outputs": [
        {
          "output_type": "stream",
          "text": [
            "Existem  83  caracteres diferentes no vocabulário\n"
          ],
          "name": "stdout"
        }
      ]
    },
    {
      "cell_type": "markdown",
      "metadata": {
        "id": "EUTLYKC2zAPf"
      },
      "source": [
        "# Criando um dicionário de dados\n",
        "\n",
        "Vou pegar todos os carateres presentes no dataset e atribuir um valor numérico para cada um.\n",
        "\n",
        "ex: a = 0, b = 1, ...\n",
        "\n",
        "E também criarei um meio de voltarmos, colocando os caracteres em um array\n",
        "\n",
        "ex: `['a', 'b']`\n",
        "\n",
        "Assim saberemos que o caractere representado pelo número 0 é o 'a', pois ele ocupa a posição zero no array"
      ]
    },
    {
      "cell_type": "code",
      "metadata": {
        "id": "ZysVC6npzKms",
        "outputId": "ecdcf35b-19c1-440f-eb91-0e0c091384d0",
        "colab": {
          "base_uri": "https://localhost:8080/",
          "height": 35
        }
      },
      "source": [
        "char2idx = {u:i for i, u in enumerate(vocab)}\n",
        "idx2char = np.array(vocab)\n",
        "\n",
        "print('em char2idx: ', list(char2idx.items())[0])"
      ],
      "execution_count": 27,
      "outputs": [
        {
          "output_type": "stream",
          "text": [
            "em char2idx:  ('\\n', 0)\n"
          ],
          "name": "stdout"
        }
      ]
    },
    {
      "cell_type": "markdown",
      "metadata": {
        "id": "EXgyap272Rb-"
      },
      "source": [
        "# Convertendo o array de letras nos numeros correspondentes do nosso diconário de dados"
      ]
    },
    {
      "cell_type": "code",
      "metadata": {
        "id": "uP4KsOkx165Q",
        "outputId": "7aa6a460-4ed4-4d57-a9f1-fa42bec8eded",
        "colab": {
          "base_uri": "https://localhost:8080/",
          "height": 35
        }
      },
      "source": [
        "def vectorize_string(string):\n",
        "    vectorized_output = np.array([char2idx[char] for char in string])\n",
        "    return vectorized_output\n",
        "\n",
        "vectorized_songs = vectorize_string(songs_joined)\n",
        "\n",
        "vectorized_songs"
      ],
      "execution_count": 29,
      "outputs": [
        {
          "output_type": "execute_result",
          "data": {
            "text/plain": [
              "array([49, 22, 14, ..., 22, 82,  2])"
            ]
          },
          "metadata": {
            "tags": []
          },
          "execution_count": 29
        }
      ]
    },
    {
      "cell_type": "markdown",
      "metadata": {
        "id": "appFziMH8Tei"
      },
      "source": [
        "# Definir função para pegar batchs de dados\n",
        "```python\n",
        "vectorized_songs = [1,2,3,4]\n",
        "\n",
        "seq_length = 3\n",
        "\n",
        "x = [1,2,3]\n",
        "y = [2,3,4]\n",
        "```"
      ]
    },
    {
      "cell_type": "code",
      "metadata": {
        "id": "W_dQfA2B8B_c"
      },
      "source": [
        "def get_batch(vectorized_songs, seq_length, batch_size):\n",
        "    n = len(vectorized_songs) - 1\n",
        "    idx = np.random.choice(n - seq_length, batch_size)\n",
        "\n",
        "    input_batch = [vectorized_songs[i : seq_length+i] for i in idx]\n",
        "    output_batch = [vectorized_songs[i+1 : seq_length+i+1] for i in idx]\n",
        "\n",
        "    x_batch = np.reshape(input_batch, [batch_size, seq_length])\n",
        "    y_batch = np.reshape(output_batch, [batch_size, seq_length])\n",
        "\n",
        "    return x_batch, y_batch"
      ],
      "execution_count": 42,
      "outputs": []
    },
    {
      "cell_type": "code",
      "metadata": {
        "id": "LERqg-_T9Wy_",
        "outputId": "ba0936d4-5f41-4a2e-e070-c6e65eb303b5",
        "colab": {
          "base_uri": "https://localhost:8080/",
          "height": 35
        }
      },
      "source": [
        "x_batch, y_batch = get_batch(vectorized_songs, seq_length=5, batch_size=1)\n",
        "\n",
        "print(x_batch, y_batch)"
      ],
      "execution_count": 43,
      "outputs": [
        {
          "output_type": "stream",
          "text": [
            "[[82 61 56 56 61]] [[61 56 56 61  1]]\n"
          ],
          "name": "stdout"
        }
      ]
    },
    {
      "cell_type": "markdown",
      "metadata": {
        "id": "xgA5aq0EAKxl"
      },
      "source": [
        "# Construindo o modelo\n",
        "\n",
        "uma camada `tf.keras.layers.Embedding`\n",
        "\n",
        "uma camada `tf.keras.layers.LSTM`\n",
        "\n",
        "uma camada `tf.keras.layers.Dense"
      ]
    },
    {
      "cell_type": "code",
      "metadata": {
        "id": "UviwHjJgAf-C"
      },
      "source": [
        ""
      ],
      "execution_count": null,
      "outputs": []
    }
  ]
}