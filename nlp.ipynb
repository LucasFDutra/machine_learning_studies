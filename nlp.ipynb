{
  "nbformat": 4,
  "nbformat_minor": 0,
  "metadata": {
    "language_info": {
      "codemirror_mode": {
        "name": "ipython",
        "version": 3
      },
      "file_extension": ".py",
      "mimetype": "text/x-python",
      "name": "python",
      "nbconvert_exporter": "python",
      "pygments_lexer": "ipython3",
      "version": 3
    },
    "orig_nbformat": 2,
    "colab": {
      "name": "nlp.ipynb",
      "provenance": [],
      "include_colab_link": true
    }
  },
  "cells": [
    {
      "cell_type": "markdown",
      "metadata": {
        "id": "view-in-github",
        "colab_type": "text"
      },
      "source": [
        "<a href=\"https://colab.research.google.com/github/LucasFDutra/natural_language_processing/blob/master/nlp.ipynb\" target=\"_parent\"><img src=\"https://colab.research.google.com/assets/colab-badge.svg\" alt=\"Open In Colab\"/></a>"
      ]
    },
    {
      "cell_type": "markdown",
      "metadata": {
        "id": "5giolsWD2zfR"
      },
      "source": [
        "# NLP\n",
        "\n",
        "Natural language processing, é uma área de deeplearning que estuda métodos para fazer com que o computador entenda textos, audio e também imagens.\n",
        "\n",
        "- Alguns exemplos:\n",
        "    - Analise de sentimentos;\n",
        "    - Interpretação de comandos de voz;\n",
        "    - Transcrição de voz para texto;\n",
        "    - Tradução;\n",
        "    - Interpretação de imagens (descrever o que tem na imagem);"
      ]
    },
    {
      "cell_type": "markdown",
      "metadata": {
        "id": "ERkJmRAj22VT"
      },
      "source": [
        "# Iniciando os estudos na área\n",
        "\n",
        "Para começar na área um caminho mais comum é a análise de textos, e esse é um ótimo caso de uso,já que boa parte dos dados que possuimos é em formato textual.\n",
        "\n",
        "## O problema\n",
        "\n",
        "O problema de se analisar textos é que não podemos fazer calculos com textos, e todo algoritmo de deeplearning é baseado em calculos. Logo nosso primeiro desafio é transformar textos em números, esse processo pode ser chamado de `vectorization`"
      ]
    },
    {
      "cell_type": "markdown",
      "metadata": {
        "id": "Vr9-aSWS22qd"
      },
      "source": [
        "# Vectorization\n",
        "\n",
        "Para passarmos palavras para números podemos utilizar duas técnicas:\n",
        "\n",
        "- 1. Cada caractere recebe um valor numérico e então vamos convertendo caractere a caractere. Veja um exemplo:\n",
        "    - Se definirmos `a=1, b=2, c=3, ...` a palavra `aba` seria igual à `121`.\n",
        "- 2. Cada palavra recebe um valor numérico, veja no exemplo abaixo:\n",
        "    - Se definirmos `eu=1, amo=2, meu=3, cachorro=4` a frase `eu amo meu cachorro` seria igual a `[1 2 3 4]`.\n",
        "\n",
        "Ambas as abordagens são válidas, porém, a segunda tende a ser mais coerente. Pois a correlação entre uma sequência de caracteres não é tão forte quanto uma sequência de palavras."
      ]
    },
    {
      "cell_type": "code",
      "metadata": {
        "id": "ruYBtmyq23V-"
      },
      "source": [
        ""
      ],
      "execution_count": null,
      "outputs": []
    },
    {
      "cell_type": "code",
      "metadata": {
        "id": "NRJYbMvY23pc"
      },
      "source": [
        ""
      ],
      "execution_count": null,
      "outputs": []
    }
  ]
}